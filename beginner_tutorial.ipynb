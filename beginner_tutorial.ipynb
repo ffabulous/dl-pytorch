{
 "cells": [
  {
   "cell_type": "markdown",
   "metadata": {},
   "source": [
    "# Tensor\n",
    "- http://pytorch.org/tutorials/beginner/blitz/tensor_tutorial.html"
   ]
  },
  {
   "cell_type": "code",
   "execution_count": 1,
   "metadata": {
    "collapsed": false
   },
   "outputs": [
    {
     "name": "stdout",
     "output_type": "stream",
     "text": [
      "0.1.12_2\n",
      "1.12.1\n"
     ]
    }
   ],
   "source": [
    "from __future__ import division\n",
    "\n",
    "import torch\n",
    "import numpy as np\n",
    "\n",
    "print torch.__version__\n",
    "print np.__version__"
   ]
  },
  {
   "cell_type": "code",
   "execution_count": 2,
   "metadata": {
    "collapsed": false
   },
   "outputs": [
    {
     "data": {
      "text/plain": [
       "torch.Size([5, 3])"
      ]
     },
     "execution_count": 2,
     "metadata": {},
     "output_type": "execute_result"
    }
   ],
   "source": [
    "x = torch.rand(5, 3)\n",
    "y = torch.rand(5, 3)\n",
    "x.size()"
   ]
  },
  {
   "cell_type": "markdown",
   "metadata": {},
   "source": [
    "### Operation that mutates a tensor in-place is post-fixed with an _"
   ]
  },
  {
   "cell_type": "code",
   "execution_count": 3,
   "metadata": {
    "collapsed": false
   },
   "outputs": [
    {
     "data": {
      "text/plain": [
       "\n",
       " 0.1715  0.6529  0.4707  0.3493  0.0333\n",
       " 0.4325  0.4613  0.5362  0.2355  0.8739\n",
       " 0.8645  0.2674  0.4960  0.9963  0.5146\n",
       "[torch.FloatTensor of size 3x5]"
      ]
     },
     "execution_count": 3,
     "metadata": {},
     "output_type": "execute_result"
    }
   ],
   "source": [
    "x.t_()"
   ]
  },
  {
   "cell_type": "markdown",
   "metadata": {},
   "source": [
    "### Indexing"
   ]
  },
  {
   "cell_type": "code",
   "execution_count": 4,
   "metadata": {
    "collapsed": false
   },
   "outputs": [
    {
     "data": {
      "text/plain": [
       "\n",
       " 0.6529\n",
       " 0.4613\n",
       " 0.2674\n",
       "[torch.FloatTensor of size 3]"
      ]
     },
     "execution_count": 4,
     "metadata": {},
     "output_type": "execute_result"
    }
   ],
   "source": [
    "x[:, 1]"
   ]
  },
  {
   "cell_type": "markdown",
   "metadata": {},
   "source": [
    "### Torch Tensor <-> Numpy Array"
   ]
  },
  {
   "cell_type": "code",
   "execution_count": 5,
   "metadata": {
    "collapsed": false
   },
   "outputs": [
    {
     "data": {
      "text/plain": [
       "array([[ 0.17148094,  0.65292889,  0.47073117,  0.34932423,  0.0333273 ],\n",
       "       [ 0.43251604,  0.46131712,  0.53615016,  0.23547147,  0.87386084],\n",
       "       [ 0.86445421,  0.26740044,  0.496016  ,  0.99626905,  0.51456851]], dtype=float32)"
      ]
     },
     "execution_count": 5,
     "metadata": {},
     "output_type": "execute_result"
    }
   ],
   "source": [
    "x.numpy()"
   ]
  },
  {
   "cell_type": "code",
   "execution_count": 6,
   "metadata": {
    "collapsed": false
   },
   "outputs": [
    {
     "data": {
      "text/plain": [
       "\n",
       " 1\n",
       " 1\n",
       " 1\n",
       " 1\n",
       " 1\n",
       "[torch.DoubleTensor of size 5]"
      ]
     },
     "execution_count": 6,
     "metadata": {},
     "output_type": "execute_result"
    }
   ],
   "source": [
    "torch.from_numpy(np.ones(5))"
   ]
  },
  {
   "cell_type": "markdown",
   "metadata": {},
   "source": [
    "### CUDA Tensor"
   ]
  },
  {
   "cell_type": "code",
   "execution_count": 7,
   "metadata": {
    "collapsed": false
   },
   "outputs": [
    {
     "data": {
      "text/plain": [
       "True"
      ]
     },
     "execution_count": 7,
     "metadata": {},
     "output_type": "execute_result"
    }
   ],
   "source": [
    "# dtype = torch.FloatTensor\n",
    "# dtype = torch.cuda.FloatTensor\n",
    "torch.cuda.is_available()"
   ]
  },
  {
   "cell_type": "code",
   "execution_count": 8,
   "metadata": {
    "collapsed": false
   },
   "outputs": [],
   "source": [
    "x = x.cuda()\n",
    "y = y.cuda()"
   ]
  },
  {
   "cell_type": "code",
   "execution_count": 9,
   "metadata": {
    "collapsed": false
   },
   "outputs": [
    {
     "data": {
      "text/plain": [
       "\n",
       " 0.2820  0.8603  0.6911  0.8099  0.0381\n",
       " 0.5317  0.9886  0.6538  0.9842  1.4882\n",
       " 1.4340  0.7646  1.4852  1.9631  1.1121\n",
       "[torch.cuda.FloatTensor of size 3x5 (GPU 0)]"
      ]
     },
     "execution_count": 9,
     "metadata": {},
     "output_type": "execute_result"
    }
   ],
   "source": [
    "x+y"
   ]
  },
  {
   "cell_type": "markdown",
   "metadata": {},
   "source": [
    "---\n",
    "# Autograd\n",
    "- http://pytorch.org/tutorials/beginner/blitz/autograd_tutorial.html"
   ]
  },
  {
   "cell_type": "markdown",
   "metadata": {},
   "source": [
    "### Variable\n",
    "- Access raw data (i.e., Tensor) through ```.data```, gradient through ```.grad``` attribute\n",
    "- ```.backward()``` does back propagation\n",
    "- Variable defined a computational graph, allowing to automatically compute gradients"
   ]
  },
  {
   "cell_type": "code",
   "execution_count": 10,
   "metadata": {
    "collapsed": true
   },
   "outputs": [],
   "source": [
    "from torch.autograd import Variable"
   ]
  },
  {
   "cell_type": "code",
   "execution_count": 11,
   "metadata": {
    "collapsed": true
   },
   "outputs": [],
   "source": [
    "x = Variable(torch.ones(2, 2), requires_grad=True)"
   ]
  },
  {
   "cell_type": "code",
   "execution_count": 12,
   "metadata": {
    "collapsed": false
   },
   "outputs": [],
   "source": [
    "y = x + 2\n",
    "z = y * y * 3\n",
    "o = z.mean()"
   ]
  },
  {
   "cell_type": "code",
   "execution_count": 13,
   "metadata": {
    "collapsed": false
   },
   "outputs": [],
   "source": [
    "o.backward()"
   ]
  },
  {
   "cell_type": "code",
   "execution_count": 14,
   "metadata": {
    "collapsed": false
   },
   "outputs": [
    {
     "name": "stdout",
     "output_type": "stream",
     "text": [
      "None\n",
      "\n",
      " 27\n",
      "[torch.FloatTensor of size 1]\n",
      "\n"
     ]
    }
   ],
   "source": [
    "print o.grad    # ?\n",
    "print o.data"
   ]
  },
  {
   "cell_type": "markdown",
   "metadata": {},
   "source": [
    "---\n",
    "# Neural Networks\n",
    "- http://pytorch.org/tutorials/beginner/blitz/neural_networks_tutorial.html"
   ]
  },
  {
   "cell_type": "code",
   "execution_count": 15,
   "metadata": {
    "collapsed": true
   },
   "outputs": [],
   "source": [
    "import torch.nn as nn\n",
    "import torch.nn.functional as F\n",
    "import torch.optim as optim"
   ]
  },
  {
   "cell_type": "code",
   "execution_count": 16,
   "metadata": {
    "collapsed": false
   },
   "outputs": [],
   "source": [
    "class SampleNet(nn.Module):\n",
    "    \n",
    "    def __init__(self, channels=1):    # define layers with weights\n",
    "        super(SampleNet, self).__init__()\n",
    "        self.conv1 = nn.Conv2d(channels, 6, (5, 5))    # 1 input channel, 6 output channel, 5*5 kernel\n",
    "        self.pool = nn.MaxPool2d(2, 2)\n",
    "        self.conv2 = nn.Conv2d(6, 16, (5, 5))\n",
    "        self.fc1 = nn.Linear(16 * 5 * 5, 120)\n",
    "        self.fc2 = nn.Linear(120, 84)\n",
    "        self.fc3 = nn.Linear(84, 10)\n",
    "    \n",
    "    def forward(self, x):\n",
    "        # x = F.max_pool2d(F.relu(self.conv1(x)), (2, 2))\n",
    "        x = self.pool(F.relu(self.conv1(x)))\n",
    "        x = self.pool(F.relu(self.conv2(x)))\n",
    "        x = x.view(-1, self.num_features(x))    # flatten\n",
    "        x = F.relu(self.fc1(x))\n",
    "        x = F.relu(self.fc2(x))\n",
    "        x = self.fc3(x)\n",
    "        return x\n",
    "    \n",
    "    def num_features(self, x):\n",
    "        size = x.size()[1:]    # except batch dimension\n",
    "        n = 1\n",
    "        for s in size:\n",
    "            n *= s\n",
    "        return n        "
   ]
  },
  {
   "cell_type": "code",
   "execution_count": 17,
   "metadata": {
    "collapsed": false,
    "scrolled": true
   },
   "outputs": [
    {
     "name": "stdout",
     "output_type": "stream",
     "text": [
      "SampleNet (\n",
      "  (conv1): Conv2d(1, 6, kernel_size=(5, 5), stride=(1, 1))\n",
      "  (pool): MaxPool2d (size=(2, 2), stride=(2, 2), dilation=(1, 1))\n",
      "  (conv2): Conv2d(6, 16, kernel_size=(5, 5), stride=(1, 1))\n",
      "  (fc1): Linear (400 -> 120)\n",
      "  (fc2): Linear (120 -> 84)\n",
      "  (fc3): Linear (84 -> 10)\n",
      ")\n"
     ]
    }
   ],
   "source": [
    "net = SampleNet()\n",
    "print net"
   ]
  },
  {
   "cell_type": "code",
   "execution_count": 18,
   "metadata": {
    "collapsed": false
   },
   "outputs": [
    {
     "name": "stdout",
     "output_type": "stream",
     "text": [
      "Variable containing:\n",
      "-0.0194  0.0483  0.0484  0.0106 -0.0171  0.0614 -0.0442  0.0642 -0.1254 -0.1173\n",
      "[torch.FloatTensor of size 1x10]\n",
      "\n"
     ]
    }
   ],
   "source": [
    "# Forward\n",
    "x = Variable(torch.randn(1, 1, 32, 32))    # NCHW\n",
    "# Input:  1, 32, 32\n",
    "# Conv1:  6, 28, 28\n",
    "# Pool1:  6, 14, 14\n",
    "# Conv2: 16, 10, 10\n",
    "# Pool2: 16,  5,  5\n",
    "# FC1:   400 -> 120\n",
    "# FC2:   120 ->  84\n",
    "# FC3:    84 ->  10\n",
    "y_h = net(x)\n",
    "print y_h"
   ]
  },
  {
   "cell_type": "code",
   "execution_count": 19,
   "metadata": {
    "collapsed": false
   },
   "outputs": [
    {
     "name": "stdout",
     "output_type": "stream",
     "text": [
      "Variable containing:\n",
      " 38.8145\n",
      "[torch.FloatTensor of size 1]\n",
      "\n"
     ]
    }
   ],
   "source": [
    "# Backward\n",
    "optimizer = optim.Adam(net.parameters(), lr=1e-3)\n",
    "optimizer.zero_grad()    # flush gradient buffer\n",
    "y = Variable(torch.arange(1, 11))    # dummy\n",
    "criterion = nn.MSELoss()\n",
    "loss = criterion(y_h, y)\n",
    "print loss\n",
    "loss.backward()    # calc gradients\n",
    "optimizer.step()    # update weight"
   ]
  },
  {
   "cell_type": "markdown",
   "metadata": {},
   "source": [
    "---\n",
    "# CIFAR10\n",
    "- http://pytorch.org/tutorials/beginner/blitz/cifar10_tutorial.html"
   ]
  },
  {
   "cell_type": "code",
   "execution_count": 20,
   "metadata": {
    "collapsed": true
   },
   "outputs": [],
   "source": [
    "%matplotlib inline\n",
    "import matplotlib.pyplot as plt\n",
    "import torchvision\n",
    "import torchvision.transforms as transforms"
   ]
  },
  {
   "cell_type": "code",
   "execution_count": 21,
   "metadata": {
    "collapsed": false
   },
   "outputs": [
    {
     "name": "stdout",
     "output_type": "stream",
     "text": [
      "Files already downloaded and verified\n",
      "Files already downloaded and verified\n"
     ]
    }
   ],
   "source": [
    "# Data\n",
    "transform = transforms.Compose([transforms.ToTensor(), transforms.Normalize((.5,.5,.5), (.5,.5,.5))])\n",
    "classes = ('plane', 'car', 'bird', 'cat', 'deer', 'dog', 'frog', 'horse', 'ship', 'truck')\n",
    "trainset = torchvision.datasets.CIFAR10(root='./data', train=True, download=True, transform=transform)\n",
    "testset = torchvision.datasets.CIFAR10(root='./data', train=False, download=True, transform=transform)\n",
    "trainloader = torch.utils.data.DataLoader(trainset, batch_size=4, shuffle=True, num_workers=2)\n",
    "testloader = torch.utils.data.DataLoader(testset, batch_size=4, shuffle=False, num_workers=2)"
   ]
  },
  {
   "cell_type": "code",
   "execution_count": 22,
   "metadata": {
    "collapsed": true
   },
   "outputs": [],
   "source": [
    "def imshow(img):\n",
    "    img = img / 2 + 0.5    # 0-1\n",
    "    npimg = img.numpy()\n",
    "    plt.imshow(np.transpose(npimg, (1,2,0)))"
   ]
  },
  {
   "cell_type": "code",
   "execution_count": 23,
   "metadata": {
    "collapsed": false
   },
   "outputs": [
    {
     "name": "stdout",
     "output_type": "stream",
     "text": [
      "torch.Size([4, 3, 32, 32])\n",
      "ship\n"
     ]
    },
    {
     "data": {
      "image/png": "[encoded data removed]",
      "text/plain": [
       "<matplotlib.figure.Figure at 0x7f3352a1dfd0>"
      ]
     },
     "metadata": {},
     "output_type": "display_data"
    }
   ],
   "source": [
    "# Sample\n",
    "dataiter = iter(testloader)\n",
    "images, labels = dataiter.next()\n",
    "print images.size()\n",
    "print classes[labels[1]]\n",
    "imshow(images[1])"
   ]
  },
  {
   "cell_type": "code",
   "execution_count": 24,
   "metadata": {
    "collapsed": true
   },
   "outputs": [],
   "source": [
    "# Model\n",
    "net = SampleNet(channels=3)\n",
    "net.cuda()    # use GPU\n",
    "criterion = nn.CrossEntropyLoss()\n",
    "optimizer = optim.Adam(net.parameters(), lr=1e-3)"
   ]
  },
  {
   "cell_type": "code",
   "execution_count": 25,
   "metadata": {
    "collapsed": false
   },
   "outputs": [
    {
     "name": "stdout",
     "output_type": "stream",
     "text": [
      "Epoch=1 Step=4000 Loss=7127.154998\n",
      "Epoch=1 Step=8000 Loss=6049.67474911\n",
      "Epoch=1 Step=12000 Loss=5684.34711048\n",
      "Epoch=2 Step=4000 Loss=5371.61085331\n",
      "Epoch=2 Step=8000 Loss=5157.32687739\n",
      "Epoch=2 Step=12000 Loss=5073.66945606\n",
      "Epoch=3 Step=4000 Loss=4819.9245549\n",
      "Epoch=3 Step=8000 Loss=4857.22655977\n",
      "Epoch=3 Step=12000 Loss=4744.05268879\n",
      "Epoch=4 Step=4000 Loss=4478.69756831\n",
      "Epoch=4 Step=8000 Loss=4575.83774575\n",
      "Epoch=4 Step=12000 Loss=4542.27432359\n",
      "Epoch=5 Step=4000 Loss=4259.81654188\n",
      "Epoch=5 Step=8000 Loss=4371.06160181\n",
      "Epoch=5 Step=12000 Loss=4387.04552899\n",
      "Epoch=6 Step=4000 Loss=4077.10606264\n",
      "Epoch=6 Step=8000 Loss=4162.47280564\n",
      "Epoch=6 Step=12000 Loss=4315.80315044\n",
      "Epoch=7 Step=4000 Loss=3970.78053682\n",
      "Epoch=7 Step=8000 Loss=4092.53653866\n",
      "Epoch=7 Step=12000 Loss=4124.91836635\n",
      "Epoch=8 Step=4000 Loss=3882.19095669\n",
      "Epoch=8 Step=8000 Loss=3930.22532056\n",
      "Epoch=8 Step=12000 Loss=4020.91952044\n",
      "Epoch=9 Step=4000 Loss=3835.6254763\n",
      "Epoch=9 Step=8000 Loss=3889.30379331\n",
      "Epoch=9 Step=12000 Loss=3900.39684497\n",
      "Epoch=10 Step=4000 Loss=3706.87405803\n",
      "Epoch=10 Step=8000 Loss=3763.43920366\n",
      "Epoch=10 Step=12000 Loss=3875.73665692\n"
     ]
    }
   ],
   "source": [
    "# Train\n",
    "for epoch in range(10):\n",
    "    _loss = .0\n",
    "    for step, (x, y) in enumerate(trainloader, 1):\n",
    "        x, y = Variable(x.cuda()), Variable(y.cuda())\n",
    "        optimizer.zero_grad()\n",
    "        y_h = net(x)\n",
    "        loss = criterion(y_h, y)\n",
    "        loss.backward()\n",
    "        optimizer.step()\n",
    "        _loss += loss.data[0]    # loss itself is not scalar\n",
    "        if step % 4000 == 0:\n",
    "            print 'Epoch={} Step={} Loss={}'.format(epoch+1, step, _loss)\n",
    "            _loss = .0"
   ]
  },
  {
   "cell_type": "code",
   "execution_count": 26,
   "metadata": {
    "collapsed": false
   },
   "outputs": [
    {
     "name": "stdout",
     "output_type": "stream",
     "text": [
      "True: frog frog car frog\n",
      "Pred: deer frog car bird\n"
     ]
    },
    {
     "data": {
      "image/png": "[encoded data removed]",
      "text/plain": [
       "<matplotlib.figure.Figure at 0x7f3457fb9ed0>"
      ]
     },
     "metadata": {},
     "output_type": "display_data"
    }
   ],
   "source": [
    "# Test\n",
    "images, labels = dataiter.next()\n",
    "imshow(torchvision.utils.make_grid(images))\n",
    "y_h = net(Variable(images.cuda()))\n",
    "_, prediction = torch.max(y_h.data, 1)    # must be .data else pred becomes Variable\n",
    "print 'True: '+' '.join(map(classes.__getitem__, labels))\n",
    "print 'Pred: '+' '.join(map(classes.__getitem__, prediction.view(-1).tolist()))"
   ]
  },
  {
   "cell_type": "code",
   "execution_count": 27,
   "metadata": {
    "collapsed": false
   },
   "outputs": [
    {
     "name": "stdout",
     "output_type": "stream",
     "text": [
      "6082 10000 0.6082\n"
     ]
    }
   ],
   "source": [
    "# Accuracy (overall)\n",
    "correct, total = 0, 0\n",
    "for (images, labels) in testloader:\n",
    "    y_h = net(Variable(images.cuda()))\n",
    "    _, prediction = torch.max(y_h.data, 1)\n",
    "    total += labels.size(0)    # size(0): [4] -> 4\n",
    "    correct += (prediction == labels.cuda()).sum()    # true: 1, false: 0\n",
    "print correct, total, correct / total"
   ]
  },
  {
   "cell_type": "code",
   "execution_count": 28,
   "metadata": {
    "collapsed": false
   },
   "outputs": [
    {
     "name": "stdout",
     "output_type": "stream",
     "text": [
      "plane: 0.719\n",
      "car  : 0.796\n",
      "bird : 0.496\n",
      "cat  : 0.316\n",
      "deer : 0.556\n",
      "dog  : 0.505\n",
      "frog : 0.805\n",
      "horse: 0.613\n",
      "ship : 0.575\n",
      "truck: 0.701\n"
     ]
    }
   ],
   "source": [
    "# Accuracy (class)\n",
    "correct = [0 for _ in range(len(classes))]\n",
    "total = [0 for _ in range(len(classes))]\n",
    "for (images, labels) in testloader:\n",
    "    y_h = net(Variable(images.cuda()))\n",
    "    _, prediction = torch.max(y_h.data, 1)\n",
    "    tf = (prediction == labels.cuda()).squeeze()    # squeeze: 4*1 -> 4\n",
    "    for i, j in enumerate(labels):\n",
    "        correct[j] += tf[i]\n",
    "        total[j] += 1\n",
    "for i in range(len(classes)):\n",
    "    print '{:5s}: {:.3f}'.format(classes[i], correct[i] / total[i])"
   ]
  }
 ],
 "metadata": {
  "kernelspec": {
   "display_name": "Python 2",
   "language": "python",
   "name": "python2"
  },
  "language_info": {
   "codemirror_mode": {
    "name": "ipython",
    "version": 2
   },
   "file_extension": ".py",
   "mimetype": "text/x-python",
   "name": "python",
   "nbconvert_exporter": "python",
   "pygments_lexer": "ipython2",
   "version": "2.7.13"
  }
 },
 "nbformat": 4,
 "nbformat_minor": 2
}
