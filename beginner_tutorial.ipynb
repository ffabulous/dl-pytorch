{
 "nbformat_minor": 2, 
 "nbformat": 4, 
 "cells": [
  {
   "source": [
    "# Tensor\n", 
    "- http://pytorch.org/tutorials/beginner/blitz/tensor_tutorial.html"
   ], 
   "cell_type": "markdown", 
   "metadata": {}
  }, 
  {
   "execution_count": 1, 
   "cell_type": "code", 
   "source": [
    "from __future__ import division\n", 
    "\n", 
    "import torch\n", 
    "import numpy as np\n", 
    "\n", 
    "print torch.__version__\n", 
    "print np.__version__"
   ], 
   "outputs": [
    {
     "output_type": "stream", 
     "name": "stdout", 
     "text": [
      "0.1.12_2\n", 
      "1.12.1\n"
     ]
    }
   ], 
   "metadata": {
    "collapsed": false
   }
  }, 
  {
   "execution_count": 2, 
   "cell_type": "code", 
   "source": [
    "x = torch.rand(5, 3)\n", 
    "y = torch.rand(5, 3)\n", 
    "print x.size()"
   ], 
   "outputs": [
    {
     "output_type": "stream", 
     "name": "stdout", 
     "text": [
      "torch.Size([5, 3])\n"
     ]
    }
   ], 
   "metadata": {
    "collapsed": false
   }
  }, 
  {
   "source": [
    "### Operation that mutates a tensor in-place is post-fixed with an _"
   ], 
   "cell_type": "markdown", 
   "metadata": {}
  }, 
  {
   "execution_count": 3, 
   "cell_type": "code", 
   "source": [
    "print x.t_()"
   ], 
   "outputs": [
    {
     "output_type": "stream", 
     "name": "stdout", 
     "text": [
      "\n", 
      " 0.7217  0.5915  0.9937  0.2814  0.9490\n", 
      " 0.1079  0.6175  0.1641  0.9926  0.9744\n", 
      " 0.2051  0.5692  0.0259  0.0192  0.3831\n", 
      "[torch.FloatTensor of size 3x5]\n", 
      "\n"
     ]
    }
   ], 
   "metadata": {
    "collapsed": false
   }
  }, 
  {
   "source": [
    "### Indexing"
   ], 
   "cell_type": "markdown", 
   "metadata": {}
  }, 
  {
   "execution_count": 4, 
   "cell_type": "code", 
   "source": [
    "print x[:, 1]"
   ], 
   "outputs": [
    {
     "output_type": "stream", 
     "name": "stdout", 
     "text": [
      "\n", 
      " 0.5915\n", 
      " 0.6175\n", 
      " 0.5692\n", 
      "[torch.FloatTensor of size 3]\n", 
      "\n"
     ]
    }
   ], 
   "metadata": {
    "collapsed": false
   }
  }, 
  {
   "source": [
    "### Torch Tensor <-> Numpy Array"
   ], 
   "cell_type": "markdown", 
   "metadata": {}
  }, 
  {
   "execution_count": 5, 
   "cell_type": "code", 
   "source": [
    "print x.numpy()"
   ], 
   "outputs": [
    {
     "output_type": "stream", 
     "name": "stdout", 
     "text": [
      "[[ 0.72172672  0.59145015  0.99372178  0.28137529  0.94896746]\n", 
      " [ 0.10793173  0.61752599  0.16405463  0.99255407  0.9744246 ]\n", 
      " [ 0.20509554  0.5691765   0.0258752   0.01923878  0.38312259]]\n"
     ]
    }
   ], 
   "metadata": {
    "collapsed": false
   }
  }, 
  {
   "execution_count": 6, 
   "cell_type": "code", 
   "source": [
    "print torch.from_numpy(np.ones(5))"
   ], 
   "outputs": [
    {
     "output_type": "stream", 
     "name": "stdout", 
     "text": [
      "\n", 
      " 1\n", 
      " 1\n", 
      " 1\n", 
      " 1\n", 
      " 1\n", 
      "[torch.DoubleTensor of size 5]\n", 
      "\n"
     ]
    }
   ], 
   "metadata": {
    "collapsed": false
   }
  }, 
  {
   "source": [
    "### CUDA Tensor"
   ], 
   "cell_type": "markdown", 
   "metadata": {}
  }, 
  {
   "execution_count": 7, 
   "cell_type": "code", 
   "source": [
    "# dtype = torch.FloatTensor\n", 
    "# dtype = torch.cuda.FloatTensor\n", 
    "print torch.cuda.is_available()"
   ], 
   "outputs": [
    {
     "output_type": "stream", 
     "name": "stdout", 
     "text": [
      "True\n"
     ]
    }
   ], 
   "metadata": {
    "collapsed": false
   }
  }, 
  {
   "execution_count": 8, 
   "cell_type": "code", 
   "source": [
    "x = x.cuda()\n", 
    "y = y.cuda()\n", 
    "print x + y"
   ], 
   "outputs": [
    {
     "output_type": "stream", 
     "name": "stdout", 
     "text": [
      "\n", 
      " 1.5880  1.2805  1.6756  0.4248  0.9896\n", 
      " 0.2244  1.3884  0.7269  1.6020  1.4378\n", 
      " 0.7641  1.3675  0.7802  0.8964  0.8157\n", 
      "[torch.cuda.FloatTensor of size 3x5 (GPU 0)]\n", 
      "\n"
     ]
    }
   ], 
   "metadata": {
    "collapsed": false
   }
  }, 
  {
   "source": [
    "---\n", 
    "# Autograd\n", 
    "- http://pytorch.org/tutorials/beginner/blitz/autograd_tutorial.html"
   ], 
   "cell_type": "markdown", 
   "metadata": {}
  }, 
  {
   "source": [
    "### Variable\n", 
    "- Access raw data (i.e., Tensor) through ```.data```, gradient through ```.grad``` attribute\n", 
    "- ```.backward()``` does back propagation\n", 
    "- Variable defined a computational graph, allowing to automatically compute gradients"
   ], 
   "cell_type": "markdown", 
   "metadata": {}
  }, 
  {
   "execution_count": 9, 
   "cell_type": "code", 
   "source": [
    "from torch.autograd import Variable\n", 
    "\n", 
    "x = Variable(torch.ones(2, 2), requires_grad=True)\n", 
    "y = x + 2\n", 
    "z = y * y * 3\n", 
    "o = z.mean()\n", 
    "o.backward()\n", 
    "print o.grad    # why None?\n", 
    "print o.data"
   ], 
   "outputs": [
    {
     "output_type": "stream", 
     "name": "stdout", 
     "text": [
      "None\n", 
      "\n", 
      " 27\n", 
      "[torch.FloatTensor of size 1]\n", 
      "\n"
     ]
    }
   ], 
   "metadata": {
    "collapsed": false
   }
  }, 
  {
   "source": [
    "---\n", 
    "# Neural Networks\n", 
    "- http://pytorch.org/tutorials/beginner/blitz/neural_networks_tutorial.html"
   ], 
   "cell_type": "markdown", 
   "metadata": {}
  }, 
  {
   "execution_count": 10, 
   "cell_type": "code", 
   "source": [
    "import torch.nn as nn\n", 
    "import torch.nn.functional as F\n", 
    "import torch.optim as optim"
   ], 
   "outputs": [], 
   "metadata": {
    "collapsed": true
   }
  }, 
  {
   "execution_count": 11, 
   "cell_type": "code", 
   "source": [
    "# Define Network\n", 
    "model = torch.nn.Sequential(    # sample DNN\n", 
    "    torch.nn.Linear(64, 100),    # input, hidden\n", 
    "    torch.nn.ReLU(),\n", 
    "    torch.nn.Linear(100, 100),    # hidden, output\n", 
    ")\n", 
    "\n", 
    "class SampleNet(nn.Module):    # sample CNN\n", 
    "    \n", 
    "    def __init__(self, channels=1):    # define layers with weights\n", 
    "        super(SampleNet, self).__init__()\n", 
    "        self.conv1 = nn.Conv2d(channels, 6, (5, 5))    # 1 input channel, 6 output channel, 5*5 kernel\n", 
    "        self.pool = nn.MaxPool2d(2, 2)\n", 
    "        self.conv2 = nn.Conv2d(6, 16, (5, 5))\n", 
    "        self.fc1 = nn.Linear(16 * 5 * 5, 120)\n", 
    "        self.fc2 = nn.Linear(120, 84)\n", 
    "        self.fc3 = nn.Linear(84, 10)\n", 
    "    \n", 
    "    def forward(self, x):\n", 
    "        # x = F.max_pool2d(F.relu(self.conv1(x)), (2, 2))\n", 
    "        x = self.pool(F.relu(self.conv1(x)))\n", 
    "        x = self.pool(F.relu(self.conv2(x)))\n", 
    "        x = x.view(-1, self.num_features(x))    # flatten\n", 
    "        x = F.relu(self.fc1(x))\n", 
    "        x = F.relu(self.fc2(x))\n", 
    "        x = self.fc3(x)\n", 
    "        return x\n", 
    "    \n", 
    "    def num_features(self, x):\n", 
    "        size = x.size()[1:]    # except batch dimension\n", 
    "        n = 1\n", 
    "        for s in size:\n", 
    "            n *= s\n", 
    "        return n        "
   ], 
   "outputs": [], 
   "metadata": {
    "collapsed": false
   }
  }, 
  {
   "execution_count": 12, 
   "cell_type": "code", 
   "source": [
    "net = SampleNet()\n", 
    "print net"
   ], 
   "outputs": [
    {
     "output_type": "stream", 
     "name": "stdout", 
     "text": [
      "SampleNet (\n", 
      "  (conv1): Conv2d(1, 6, kernel_size=(5, 5), stride=(1, 1))\n", 
      "  (pool): MaxPool2d (size=(2, 2), stride=(2, 2), dilation=(1, 1))\n", 
      "  (conv2): Conv2d(6, 16, kernel_size=(5, 5), stride=(1, 1))\n", 
      "  (fc1): Linear (400 -> 120)\n", 
      "  (fc2): Linear (120 -> 84)\n", 
      "  (fc3): Linear (84 -> 10)\n", 
      ")\n"
     ]
    }
   ], 
   "metadata": {
    "scrolled": true, 
    "collapsed": false
   }
  }, 
  {
   "execution_count": 13, 
   "cell_type": "code", 
   "source": [
    "# Forward\n", 
    "x = Variable(torch.randn(1, 1, 32, 32))    # NCHW\n", 
    "# Input:  1, 32, 32\n", 
    "# Conv1:  6, 28, 28\n", 
    "# Pool1:  6, 14, 14\n", 
    "# Conv2: 16, 10, 10\n", 
    "# Pool2: 16,  5,  5\n", 
    "# FC1:   400 -> 120\n", 
    "# FC2:   120 ->  84\n", 
    "# FC3:    84 ->  10\n", 
    "y_h = net(x)\n", 
    "print y_h"
   ], 
   "outputs": [
    {
     "output_type": "stream", 
     "name": "stdout", 
     "text": [
      "Variable containing:\n", 
      "-0.0194  0.0483  0.0484  0.0106 -0.0171  0.0614 -0.0442  0.0642 -0.1254 -0.1173\n", 
      "[torch.FloatTensor of size 1x10]\n", 
      "\n"
     ]
    }
   ], 
   "metadata": {
    "collapsed": false
   }
  }, 
  {
   "execution_count": 14, 
   "cell_type": "code", 
   "source": [
    "# Backward\n", 
    "optimizer = optim.Adam(net.parameters(), lr=1e-3)\n", 
    "optimizer.zero_grad()    # flush gradient buffer\n", 
    "y = Variable(torch.arange(1, 11))    # dummy\n", 
    "criterion = nn.MSELoss()\n", 
    "loss = criterion(y_h, y)\n", 
    "print loss\n", 
    "loss.backward()    # calc gradients\n", 
    "optimizer.step()    # update weight"
   ], 
   "outputs": [
    {
     "output_type": "stream", 
     "name": "stdout", 
     "text": [
      "Variable containing:\n", 
      " 38.8145\n", 
      "[torch.FloatTensor of size 1]\n", 
      "\n"
     ]
    }
   ], 
   "metadata": {
    "collapsed": false
   }
  }, 
  {
   "source": [
    "---\n", 
    "# CIFAR10\n", 
    "- http://pytorch.org/tutorials/beginner/blitz/cifar10_tutorial.html"
   ], 
   "cell_type": "markdown", 
   "metadata": {}
  }, 
  {
   "execution_count": 15, 
   "cell_type": "code", 
   "source": [
    "%matplotlib inline\n", 
    "import matplotlib.pyplot as plt\n", 
    "import torchvision\n", 
    "import torchvision.transforms as transforms"
   ], 
   "outputs": [], 
   "metadata": {
    "collapsed": true
   }
  }, 
  {
   "execution_count": 16, 
   "cell_type": "code", 
   "source": [
    "# Data\n", 
    "transform = transforms.Compose([transforms.ToTensor(), transforms.Normalize((.5,.5,.5), (.5,.5,.5))])\n", 
    "classes = ('plane', 'car', 'bird', 'cat', 'deer', 'dog', 'frog', 'horse', 'ship', 'truck')\n", 
    "trainset = torchvision.datasets.CIFAR10(root='./data', train=True, download=True, transform=transform)\n", 
    "testset = torchvision.datasets.CIFAR10(root='./data', train=False, download=True, transform=transform)\n", 
    "trainloader = torch.utils.data.DataLoader(trainset, batch_size=4, shuffle=True, num_workers=2)\n", 
    "testloader = torch.utils.data.DataLoader(testset, batch_size=4, shuffle=False, num_workers=2)"
   ], 
   "outputs": [
    {
     "output_type": "stream", 
     "name": "stdout", 
     "text": [
      "Files already downloaded and verified\n", 
      "Files already downloaded and verified\n"
     ]
    }
   ], 
   "metadata": {
    "collapsed": false
   }
  }, 
  {
   "execution_count": 17, 
   "cell_type": "code", 
   "source": [
    "# Model\n", 
    "net = SampleNet(channels=3)\n", 
    "net.cuda()    # use GPU\n", 
    "criterion = nn.CrossEntropyLoss()\n", 
    "optimizer = optim.Adam(net.parameters(), lr=1e-3)"
   ], 
   "outputs": [], 
   "metadata": {
    "collapsed": true
   }
  }, 
  {
   "execution_count": 18, 
   "cell_type": "code", 
   "source": [
    "# Train\n", 
    "for epoch in range(10):\n", 
    "    _loss = .0\n", 
    "    for step, (x, y) in enumerate(trainloader, 1):\n", 
    "        x, y = Variable(x.cuda()), Variable(y.cuda())\n", 
    "        optimizer.zero_grad()\n", 
    "        y_h = net(x)\n", 
    "        loss = criterion(y_h, y)\n", 
    "        loss.backward()\n", 
    "        optimizer.step()\n", 
    "        _loss += loss.data[0]    # loss itself is not scalar\n", 
    "        if step % 4000 == 0:\n", 
    "            print 'Epoch={} Step={} Loss={}'.format(epoch+1, step, _loss)\n", 
    "            _loss = .0"
   ], 
   "outputs": [
    {
     "output_type": "stream", 
     "name": "stdout", 
     "text": [
      "Epoch=1 Step=4000 Loss=7127.154998\n", 
      "Epoch=1 Step=8000 Loss=6049.67474911\n", 
      "Epoch=1 Step=12000 Loss=5684.34711048\n", 
      "Epoch=2 Step=4000 Loss=5371.61085331\n", 
      "Epoch=2 Step=8000 Loss=5157.32687739\n", 
      "Epoch=2 Step=12000 Loss=5073.66945606\n", 
      "Epoch=3 Step=4000 Loss=4819.9245549\n", 
      "Epoch=3 Step=8000 Loss=4857.22655977\n", 
      "Epoch=3 Step=12000 Loss=4744.05268879\n", 
      "Epoch=4 Step=4000 Loss=4478.69756831\n", 
      "Epoch=4 Step=8000 Loss=4575.83774575\n", 
      "Epoch=4 Step=12000 Loss=4542.27432359\n", 
      "Epoch=5 Step=4000 Loss=4259.81654188\n", 
      "Epoch=5 Step=8000 Loss=4371.06160181\n", 
      "Epoch=5 Step=12000 Loss=4387.04552899\n", 
      "Epoch=6 Step=4000 Loss=4077.10606264\n", 
      "Epoch=6 Step=8000 Loss=4162.47280564\n", 
      "Epoch=6 Step=12000 Loss=4315.80315044\n", 
      "Epoch=7 Step=4000 Loss=3970.78053682\n", 
      "Epoch=7 Step=8000 Loss=4092.53653866\n", 
      "Epoch=7 Step=12000 Loss=4124.91836635\n", 
      "Epoch=8 Step=4000 Loss=3882.19095669\n", 
      "Epoch=8 Step=8000 Loss=3930.22532056\n", 
      "Epoch=8 Step=12000 Loss=4020.91952044\n", 
      "Epoch=9 Step=4000 Loss=3835.6254763\n", 
      "Epoch=9 Step=8000 Loss=3889.30379331\n", 
      "Epoch=9 Step=12000 Loss=3900.39684497\n", 
      "Epoch=10 Step=4000 Loss=3706.87405803\n", 
      "Epoch=10 Step=8000 Loss=3763.43920366\n", 
      "Epoch=10 Step=12000 Loss=3875.73665692\n"
     ]
    }
   ], 
   "metadata": {
    "collapsed": false
   }
  }, 
  {
   "execution_count": 19, 
   "cell_type": "code", 
   "source": [
    "# Test\n", 
    "def imshow(img):\n", 
    "    img = img / 2 + 0.5    # 0-1\n", 
    "    npimg = img.numpy()\n", 
    "    plt.imshow(np.transpose(npimg, (1,2,0)))\n", 
    "images, labels = dataiter.next()\n", 
    "imshow(torchvision.utils.make_grid(images))\n", 
    "y_h = net(Variable(images.cuda()))\n", 
    "_, preds = torch.max(y_h.data, 1)    # must be .data else pred becomes Variable\n", 
    "print 'True: '+' '.join(map(classes.__getitem__, labels))\n", 
    "print 'Pred: '+' '.join(map(classes.__getitem__, preds.view(-1).tolist()))"
   ], 
   "outputs": [
    {
     "output_type": "stream", 
     "name": "stdout", 
     "text": [
      "True: frog frog car frog\n", 
      "Pred: deer frog car bird\n"
     ]
    }, 
    {
     "output_type": "display_data", 
     "data": {
      "image/png": "[encoded data removed]", 
      "text/plain": [
       "<matplotlib.figure.Figure at 0x7f3457fb9ed0>"
      ]
     }, 
     "metadata": {}
    }
   ], 
   "metadata": {
    "collapsed": false
   }
  }, 
  {
   "execution_count": 20, 
   "cell_type": "code", 
   "source": [
    "# Accuracy (overall)\n", 
    "correct, total = 0, 0\n", 
    "for (images, labels) in testloader:\n", 
    "    y_h = net(Variable(images.cuda()))\n", 
    "    _, preds = torch.max(y_h.data, 1)\n", 
    "    total += labels.size(0)    # size(0): [4] -> 4\n", 
    "    correct += (preds == labels.cuda()).sum()    # true: 1, false: 0\n", 
    "print correct, total, correct / total"
   ], 
   "outputs": [
    {
     "output_type": "stream", 
     "name": "stdout", 
     "text": [
      "6082 10000 0.6082\n"
     ]
    }
   ], 
   "metadata": {
    "collapsed": false
   }
  }, 
  {
   "execution_count": 21, 
   "cell_type": "code", 
   "source": [
    "# Accuracy (class)\n", 
    "correct = [0 for _ in range(len(classes))]\n", 
    "total = [0 for _ in range(len(classes))]\n", 
    "for (images, labels) in testloader:\n", 
    "    y_h = net(Variable(images.cuda()))\n", 
    "    _, preds = torch.max(y_h.data, 1)\n", 
    "    tf = (preds == labels.cuda()).squeeze()    # squeeze: 4*1 -> 4\n", 
    "    for i, j in enumerate(labels):\n", 
    "        correct[j] += tf[i]\n", 
    "        total[j] += 1\n", 
    "for i in range(len(classes)):\n", 
    "    print '{:5s}: {:.3f}'.format(classes[i], correct[i] / total[i])"
   ], 
   "outputs": [
    {
     "output_type": "stream", 
     "name": "stdout", 
     "text": [
      "plane: 0.719\n", 
      "car  : 0.796\n", 
      "bird : 0.496\n", 
      "cat  : 0.316\n", 
      "deer : 0.556\n", 
      "dog  : 0.505\n", 
      "frog : 0.805\n", 
      "horse: 0.613\n", 
      "ship : 0.575\n", 
      "truck: 0.701\n"
     ]
    }
   ], 
   "metadata": {
    "collapsed": false
   }
  }, 
  {
   "source": [
    "---\n", 
    "# Transfer Learning\n", 
    "- http://pytorch.org/tutorials/beginner/transfer_learning_tutorial.html\n", 
    "- Use pretrained ResNet-18 and fine-tune the last layer to classify **ants** and **bees**"
   ], 
   "cell_type": "markdown", 
   "metadata": {}
  }, 
  {
   "execution_count": 22, 
   "cell_type": "code", 
   "source": [
    "# wget https://download.pytorch.org/tutorial/hymenoptera_data.zip\n", 
    "!ls data/hymenoptera_data/train/bees | head"
   ], 
   "outputs": [
    {
     "output_type": "stream", 
     "name": "stdout", 
     "text": [
      "1092977343_cb42b38d62.jpg\r\n", 
      "1093831624_fb5fbe2308.jpg\r\n", 
      "1097045929_1753d1c765.jpg\r\n", 
      "1232245714_f862fbe385.jpg\r\n", 
      "129236073_0985e91c7d.jpg\r\n", 
      "1295655112_7813f37d21.jpg\r\n", 
      "132511197_0b86ad0fff.jpg\r\n", 
      "132826773_dbbcb117b9.jpg\r\n", 
      "150013791_969d9a968b.jpg\r\n", 
      "1508176360_2972117c9d.jpg\r\n"
     ]
    }
   ], 
   "metadata": {
    "collapsed": false
   }
  }, 
  {
   "execution_count": 23, 
   "cell_type": "code", 
   "source": [
    "import copy\n", 
    "import os\n", 
    "import time\n", 
    "\n", 
    "from torchvision import datasets, models, transforms"
   ], 
   "outputs": [], 
   "metadata": {
    "collapsed": true
   }
  }, 
  {
   "execution_count": 24, 
   "cell_type": "code", 
   "source": [
    "# Preprocess\n", 
    "data_transforms = {\n", 
    "    'train': transforms.Compose([    # augmentation, normalization\n", 
    "        transforms.RandomSizedCrop(224),\n", 
    "        transforms.RandomHorizontalFlip(),\n", 
    "        transforms.ToTensor(),\n", 
    "        transforms.Normalize([0.485, 0.456, 0.406], [0.229, 0.224, 0.225])\n", 
    "    ]),\n", 
    "    'val': transforms.Compose([    # normalization only\n", 
    "        transforms.Scale(256),\n", 
    "        transforms.CenterCrop(224),\n", 
    "        transforms.ToTensor(),\n", 
    "        transforms.Normalize([0.485, 0.456, 0.406], [0.229, 0.224, 0.225])\n", 
    "    ]),\n", 
    "}\n", 
    "data_dir = './data/hymenoptera_data'\n", 
    "dsets = {x: datasets.ImageFolder(os.path.join(data_dir, x), data_transforms[x]) for x in ['train', 'val']}\n", 
    "dset_loaders = {x: torch.utils.data.DataLoader(dsets[x], batch_size=4, shuffle=True, num_workers=4) for x in ['train', 'val']}\n", 
    "dset_sizes = {x: len(dsets[x]) for x in ['train', 'val']}\n", 
    "dset_classes = dsets['train'].classes\n", 
    "print dset_classes, dset_sizes"
   ], 
   "outputs": [
    {
     "output_type": "stream", 
     "name": "stdout", 
     "text": [
      "['ants', 'bees'] {'train': 244, 'val': 153}\n"
     ]
    }
   ], 
   "metadata": {
    "collapsed": false
   }
  }, 
  {
   "execution_count": 25, 
   "cell_type": "code", 
   "source": [
    "# Samples\n", 
    "def imshow(img, title=None):\n", 
    "    img = img.numpy().transpose((1, 2, 0))\n", 
    "    mean = np.array([0.485, 0.456, 0.406])\n", 
    "    std = np.array([0.229, 0.224, 0.225])\n", 
    "    img = std * img + mean\n", 
    "    plt.imshow(img)\n", 
    "    if title is not None:\n", 
    "        plt.title(title)\n", 
    "images, classes = next(iter(dset_loaders['train']))\n", 
    "out = torchvision.utils.make_grid(images)\n", 
    "imshow(out, title=[dset_classes[x] for x in classes])"
   ], 
   "outputs": [
    {
     "output_type": "display_data", 
     "data": {
      "image/png": "[encoded data removed]", 
      "text/plain": [
       "<matplotlib.figure.Figure at 0x7f7e792b2a50>"
      ]
     }, 
     "metadata": {}
    }
   ], 
   "metadata": {
    "collapsed": false
   }
  }, 
  {
   "execution_count": 26, 
   "cell_type": "code", 
   "source": [
    "# Load ResNet-18\n", 
    "resnet = models.resnet18(pretrained=True)\n", 
    "# for param in resnet.parameters():    # freeze parameters\n", 
    "#     param.requires_grad = False\n", 
    "print resnet.fc.in_features\n", 
    "print resnet.fc.out_features    # original output classes"
   ], 
   "outputs": [
    {
     "output_type": "stream", 
     "name": "stdout", 
     "text": [
      "512\n", 
      "1000\n"
     ]
    }
   ], 
   "metadata": {
    "collapsed": false
   }
  }, 
  {
   "execution_count": 27, 
   "cell_type": "code", 
   "source": [
    "# Reset FC\n", 
    "resnet.fc = nn.Linear(resnet.fc.in_features, len(dset_classes))\n", 
    "resnet = resnet.cuda()\n", 
    "criterion = nn.CrossEntropyLoss()\n", 
    "optimizer = optim.Adam(resnet.parameters(), lr=1e-3)"
   ], 
   "outputs": [], 
   "metadata": {
    "collapsed": true
   }
  }, 
  {
   "execution_count": 28, 
   "cell_type": "code", 
   "source": [
    "# Train\n", 
    "start = time.time()\n", 
    "best_model = None\n", 
    "best_acc = .0\n", 
    "for epoch in range(10):\n", 
    "    for phase in ('train', 'val'):\n", 
    "        is_train = True if phase == 'train' else False\n", 
    "        resnet.train(is_train)\n", 
    "        epoch_loss = .0\n", 
    "        epoch_acc = .0\n", 
    "        for images, labels in dset_loaders[phase]:\n", 
    "            images, labels = Variable(images.cuda()), Variable(labels.cuda())\n", 
    "            optimizer.zero_grad()\n", 
    "            y_h = resnet(images)\n", 
    "            _, preds = torch.max(y_h, 1)\n", 
    "            loss = criterion(y_h, labels)\n", 
    "            if is_train:\n", 
    "                loss.backward()\n", 
    "                optimizer.step()\n", 
    "            epoch_loss += loss\n", 
    "            epoch_acc += (preds == labels).float().sum()\n", 
    "        epoch_loss /= dset_sizes[phase]\n", 
    "        epoch_acc /= dset_sizes[phase]\n", 
    "        print 'Epoch={:2d} Phase={:5s} Acc={:.4f} Loss={:.4f}'.format(epoch+1, phase, epoch_acc.data[0], epoch_loss.data[0])\n", 
    "        if not is_train and epoch_acc.data[0] > best_acc:\n", 
    "            best_acc = epoch_acc.data[0]\n", 
    "            best_model = copy.deepcopy(resnet)\n", 
    "elapsed = time.time()-start\n", 
    "print 'Elapsed: {}m {}s'.format(elapsed//60, elapsed%60)\n", 
    "print 'Best Acc: {}'.format(best_acc)"
   ], 
   "outputs": [
    {
     "output_type": "stream", 
     "name": "stdout", 
     "text": [
      "Epoch= 1 Phase=train Acc=0.6885 Loss=0.1537\n", 
      "Epoch= 1 Phase=val   Acc=0.7124 Loss=0.1462\n", 
      "Epoch= 2 Phase=train Acc=0.7336 Loss=0.1367\n", 
      "Epoch= 2 Phase=val   Acc=0.7516 Loss=0.1291\n", 
      "Epoch= 3 Phase=train Acc=0.7090 Loss=0.1360\n", 
      "Epoch= 3 Phase=val   Acc=0.6928 Loss=0.1822\n", 
      "Epoch= 4 Phase=train Acc=0.7377 Loss=0.1371\n", 
      "Epoch= 4 Phase=val   Acc=0.8039 Loss=0.1268\n", 
      "Epoch= 5 Phase=train Acc=0.7254 Loss=0.1378\n", 
      "Epoch= 5 Phase=val   Acc=0.7320 Loss=0.1417\n", 
      "Epoch= 6 Phase=train Acc=0.6803 Loss=0.1506\n", 
      "Epoch= 6 Phase=val   Acc=0.7843 Loss=0.1285\n", 
      "Epoch= 7 Phase=train Acc=0.7541 Loss=0.1309\n", 
      "Epoch= 7 Phase=val   Acc=0.7516 Loss=0.1542\n", 
      "Epoch= 8 Phase=train Acc=0.7008 Loss=0.1371\n", 
      "Epoch= 8 Phase=val   Acc=0.7582 Loss=0.1479\n", 
      "Epoch= 9 Phase=train Acc=0.7623 Loss=0.1326\n", 
      "Epoch= 9 Phase=val   Acc=0.7712 Loss=0.1452\n", 
      "Epoch=10 Phase=train Acc=0.7418 Loss=0.1333\n", 
      "Epoch=10 Phase=val   Acc=0.7190 Loss=0.1475\n", 
      "Elapsed: 0.0m 25.6179478168s\n", 
      "Best Acc: 0.803921580315\n"
     ]
    }
   ], 
   "metadata": {
    "collapsed": false
   }
  }
 ], 
 "metadata": {
  "kernelspec": {
   "display_name": "Python 2", 
   "name": "python2", 
   "language": "python"
  }, 
  "language_info": {
   "mimetype": "text/x-python", 
   "nbconvert_exporter": "python", 
   "name": "python", 
   "file_extension": ".py", 
   "version": "2.7.13", 
   "pygments_lexer": "ipython2", 
   "codemirror_mode": {
    "version": 2, 
    "name": "ipython"
   }
  }
 }
}